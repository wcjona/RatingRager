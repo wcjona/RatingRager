{
 "cells": [
  {
   "cell_type": "code",
   "execution_count": null,
   "metadata": {},
   "outputs": [],
   "source": [
    "import sqlite3\n",
    "import pandas as pd\n",
    "\n",
    "def print_table(query):\n",
    "    conn = sqlite3.connect('data/ratingRager.db')\n",
    "    cursor = conn.cursor()\n",
    "    cursor.execute(query)\n",
    "\n",
    "    column_names = [description[0] for description in cursor.description]\n",
    "\n",
    "    rows = cursor.fetchall()\n",
    "\n",
    "    column_widths = [max(len(str(row[i])) for row in rows + [column_names]) for i in range(len(column_names))]\n",
    "\n",
    "    header = \"  \".join(f\"{name:<{column_widths[i]}}\" for i, name in enumerate(column_names))\n",
    "    print('\\n',header)\n",
    "    print(\"-\" * len(header))\n",
    "\n",
    "    for row in rows:\n",
    "        row_str = \"  \".join(f\"{str(item):<{column_widths[i]}}\" for i, item in enumerate(row))\n",
    "        print(row_str)\n",
    "    print('\\n')\n",
    "\n",
    "    return pd.read_sql_query(query, conn)"
   ]
  },
  {
   "cell_type": "code",
   "execution_count": null,
   "metadata": {},
   "outputs": [],
   "source": [
    "QUERY = \"\"\"\n",
    "SELECT r.id, r.name, r.rating, r.rating_volume\n",
    "FROM restaurants as r\n",
    "\"\"\"\n",
    "df = print_table(QUERY)"
   ]
  },
  {
   "cell_type": "code",
   "execution_count": null,
   "metadata": {},
   "outputs": [],
   "source": [
    "# Update score table\n",
    "\n",
    "conn = sqlite3.connect('data/ratingRager.db')\n",
    "cursor = conn.cursor()\n",
    "\n",
    "for index, row in df.iterrows():\n",
    "    cursor.execute(\n",
    "        \"UPDATE scores SET rating_score = ? WHERE restaurant_id = ?;\",\n",
    "        (row['overall_rating'], row['id'])\n",
    "    )\n",
    "\n",
    "conn.commit()\n",
    "conn.close()"
   ]
  },
  {
   "cell_type": "code",
   "execution_count": null,
   "metadata": {},
   "outputs": [
    {
     "name": "stdout",
     "output_type": "stream",
     "text": [
      "median:  258.0\n",
      "mean:  493.2795535261289\n"
     ]
    }
   ],
   "source": [
    "median_rating_volume = df['rating_volume'].median()\n",
    "\n",
    "average_rating_volume = df['rating_volume'].mean()\n",
    "\n",
    "print(\"median: \", median_rating_volume)\n",
    "\n",
    "print(\"mean: \", average_rating_volume)\n"
   ]
  },
  {
   "cell_type": "code",
   "execution_count": null,
   "metadata": {},
   "outputs": [],
   "source": [
    "df[\"overall_rating\"] = (\n",
    "    df[\"rating\"]\n",
    "    * df[\"rating_volume\"].clip(upper=average_rating_volume)\n",
    "    / average_rating_volume\n",
    "    / 5\n",
    ")\n",
    "\n",
    "print(df[\"rating\"][0], df[\"rating_volume\"][0], average_rating_volume)\n",
    "print(df[\"overall_rating\"])"
   ]
  },
  {
   "cell_type": "code",
   "execution_count": null,
   "metadata": {},
   "outputs": [
    {
     "name": "stdout",
     "output_type": "stream",
     "text": [
      "1.0\n"
     ]
    }
   ],
   "source": [
    "print(df[\"overall_rating\"].max())"
   ]
  },
  {
   "cell_type": "code",
   "execution_count": null,
   "metadata": {},
   "outputs": [],
   "source": [
    "# Update score table\n",
    "\n",
    "conn = sqlite3.connect('data/ratingRager.db')\n",
    "cursor = conn.cursor()\n",
    "\n",
    "for index, row in df.iterrows():\n",
    "    cursor.execute(\n",
    "        \"UPDATE scores SET rating_score = ? WHERE restaurant_id = ?;\",\n",
    "        (row['overall_rating'], row['id'])\n",
    "    )\n",
    "\n",
    "conn.commit()\n",
    "conn.close()"
   ]
  }
 ],
 "metadata": {
  "language_info": {
   "name": "python"
  }
 },
 "nbformat": 4,
 "nbformat_minor": 2
}
