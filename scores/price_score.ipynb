{
 "cells": [
  {
   "cell_type": "code",
   "execution_count": null,
   "metadata": {},
   "outputs": [],
   "source": [
    "import sqlite3\n",
    "import pandas as pd\n",
    "\n",
    "def print_table(query, p=False):\n",
    "    conn = sqlite3.connect('../data/ratingRager.db')\n",
    "    cursor = conn.cursor()\n",
    "    cursor.execute(query)\n",
    "\n",
    "    column_names = [description[0] for description in cursor.description]\n",
    "\n",
    "    rows = cursor.fetchall()\n",
    "\n",
    "    column_widths = [max(len(str(row[i])) for row in rows + [column_names]) for i in range(len(column_names))]\n",
    "\n",
    "    header = \"  \".join(f\"{name:<{column_widths[i]}}\" for i, name in enumerate(column_names))\n",
    "    if p:\n",
    "        print('\\n',header)\n",
    "        print(\"-\" * len(header))\n",
    "\n",
    "        for row in rows:\n",
    "            row_str = \"  \".join(f\"{str(item):<{column_widths[i]}}\" for i, item in enumerate(row))\n",
    "            print(row_str)\n",
    "        print('\\n')\n",
    "\n",
    "    return pd.read_sql_query(query, conn)"
   ]
  },
  {
   "cell_type": "code",
   "execution_count": null,
   "metadata": {},
   "outputs": [],
   "source": [
    "QUERY = \"\"\"\n",
    "SELECT r.id, r.name, r.price_level\n",
    "FROM restaurants as r\n",
    "\"\"\"\n",
    "df = print_table(QUERY)"
   ]
  },
  {
   "cell_type": "code",
   "execution_count": null,
   "metadata": {},
   "outputs": [
    {
     "name": "stdout",
     "output_type": "stream",
     "text": [
      "0       1.0\n",
      "1       2.0\n",
      "2       2.0\n",
      "3       1.0\n",
      "4       2.0\n",
      "       ... \n",
      "3937    2.0\n",
      "3938    2.0\n",
      "3939    2.0\n",
      "3940    2.0\n",
      "3941    2.0\n",
      "Name: price_level, Length: 3942, dtype: float64\n"
     ]
    }
   ],
   "source": [
    "print(df['price_level'])\n",
    "df.fillna({\"price_level\": 2}, inplace=True)\n"
   ]
  },
  {
   "cell_type": "code",
   "execution_count": null,
   "metadata": {},
   "outputs": [
    {
     "name": "stdout",
     "output_type": "stream",
     "text": [
      "0       1.0\n",
      "1       0.5\n",
      "2       0.5\n",
      "3       1.0\n",
      "4       0.5\n",
      "       ... \n",
      "3937    0.5\n",
      "3938    0.5\n",
      "3939    0.5\n",
      "3940    0.5\n",
      "3941    0.5\n",
      "Name: price_score, Length: 3942, dtype: float64\n"
     ]
    }
   ],
   "source": [
    "import numpy as np\n",
    "def calculate_price_score(price_level):\n",
    "    return 1 / float(price_level)\n",
    "\n",
    "df[\"price_score\"] = df[\"price_level\"].apply(calculate_price_score)\n",
    "print(df[\"price_score\"])"
   ]
  },
  {
   "cell_type": "code",
   "execution_count": null,
   "metadata": {},
   "outputs": [],
   "source": [
    "# Update score table\n",
    "\n",
    "conn = sqlite3.connect('../data/ratingRager.db')\n",
    "cursor = conn.cursor()\n",
    "\n",
    "for index, row in df.iterrows():\n",
    "    cursor.execute(\n",
    "        \"UPDATE scores SET price_score = ? WHERE restaurant_id = ?;\",\n",
    "        (row['price_score'], row['id'])\n",
    "    )\n",
    "\n",
    "conn.commit()\n",
    "conn.close()"
   ]
  }
 ],
 "metadata": {
  "language_info": {
   "name": "python"
  }
 },
 "nbformat": 4,
 "nbformat_minor": 2
}
