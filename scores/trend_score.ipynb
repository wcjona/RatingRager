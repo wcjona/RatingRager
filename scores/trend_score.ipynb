{
 "cells": [
  {
   "cell_type": "code",
   "execution_count": null,
   "metadata": {},
   "outputs": [],
   "source": [
    "import sqlite3\n",
    "import pandas as pd\n",
    "\n",
    "def print_table(query, p=False):\n",
    "    conn = sqlite3.connect('../data/ratingRager.db')\n",
    "    cursor = conn.cursor()\n",
    "    cursor.execute(query)\n",
    "\n",
    "    column_names = [description[0] for description in cursor.description]\n",
    "\n",
    "    rows = cursor.fetchall()\n",
    "\n",
    "    column_widths = [max(len(str(row[i])) for row in rows + [column_names]) for i in range(len(column_names))]\n",
    "\n",
    "    header = \"  \".join(f\"{name:<{column_widths[i]}}\" for i, name in enumerate(column_names))\n",
    "    if p:\n",
    "        print('\\n',header)\n",
    "        print(\"-\" * len(header))\n",
    "\n",
    "        for row in rows:\n",
    "            row_str = \"  \".join(f\"{str(item):<{column_widths[i]}}\" for i, item in enumerate(row))\n",
    "            print(row_str)\n",
    "        print('\\n')\n",
    "\n",
    "    return pd.read_sql_query(query, conn)"
   ]
  },
  {
   "cell_type": "code",
   "execution_count": null,
   "metadata": {},
   "outputs": [],
   "source": [
    "QUERY = \"\"\"\n",
    "WITH RecentReviews AS (\n",
    "    SELECT\n",
    "        r.restaurant_id,\n",
    "        r.rating,\n",
    "        r.date,\n",
    "        ROW_NUMBER() OVER (\n",
    "            PARTITION BY r.restaurant_id\n",
    "            ORDER BY r.date DESC\n",
    "        ) AS review_rank\n",
    "    FROM reviews r\n",
    ")\n",
    "SELECT\n",
    "    rr.restaurant_id,\n",
    "    r.name,\n",
    "    AVG(rr.rating) AS current_rating,\n",
    "    r.rating AS average_rating\n",
    "FROM RecentReviews rr\n",
    "JOIN restaurants r on r.id = rr.restaurant_id\n",
    "WHERE rr.review_rank <= 5\n",
    "GROUP BY rr.restaurant_id\n",
    "\"\"\"\n",
    "df = print_table(QUERY)"
   ]
  },
  {
   "cell_type": "code",
   "execution_count": null,
   "metadata": {},
   "outputs": [],
   "source": [
    "df['trend_score'] = (((df['current_rating'] - df['average_rating']) / df['average_rating'] ) + 1 ) / 2"
   ]
  },
  {
   "cell_type": "code",
   "execution_count": null,
   "metadata": {},
   "outputs": [],
   "source": [
    "# Update score table\n",
    "\n",
    "conn = sqlite3.connect('../data/ratingRager.db')\n",
    "cursor = conn.cursor()\n",
    "\n",
    "for index, row in df.iterrows():\n",
    "    cursor.execute(\n",
    "        \"UPDATE scores SET trend_score = ? WHERE restaurant_id = ?;\",\n",
    "        (row['trend_score'], row['restaurant_id'])\n",
    "    )\n",
    "\n",
    "conn.commit()\n",
    "conn.close()"
   ]
  }
 ],
 "metadata": {
  "language_info": {
   "name": "python"
  }
 },
 "nbformat": 4,
 "nbformat_minor": 2
}
