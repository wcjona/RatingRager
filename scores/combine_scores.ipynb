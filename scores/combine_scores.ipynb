{
 "cells": [
  {
   "cell_type": "code",
   "execution_count": null,
   "metadata": {},
   "outputs": [],
   "source": [
    "QUERY = \"\"\"\n",
    "    SELECT * FROM scores;\n",
    "\"\"\"\n",
    "df = print_table(QUERY)"
   ]
  },
  {
   "cell_type": "code",
   "execution_count": null,
   "metadata": {},
   "outputs": [],
   "source": [
    "# Overall Score = 0.2 * sentiment_score + 0.25 * trend_score + 0.1 * location_score + 0.35 * rating_score + 0.1 * price_score\n",
    "\n",
    "df[\"overall_score\"] = (0.25 * df[\"sentiment_score\"]) + (0.05 * df[\"trend_score\"]) + (0.1 * df[\"location_score\"]) + (0.4 * df[\"rating_score\"]) + (0.05 * df[\"price_score\"]) + (0.15 * df[\"uniqueness_score\"])"
   ]
  },
  {
   "cell_type": "code",
   "execution_count": null,
   "metadata": {},
   "outputs": [],
   "source": [
    "# Update score table\n",
    "\n",
    "conn = sqlite3.connect('data/ratingRager.db')\n",
    "cursor = conn.cursor()\n",
    "\n",
    "for index, row in df.iterrows():\n",
    "    cursor.execute(\n",
    "        \"UPDATE scores SET overall_score = ? WHERE restaurant_id = ?;\",\n",
    "        (row['overall_score'], row['restaurant_id'])\n",
    "    )\n",
    "\n",
    "conn.commit()\n",
    "conn.close()"
   ]
  },
  {
   "cell_type": "code",
   "execution_count": null,
   "metadata": {},
   "outputs": [],
   "source": [
    "QUERY = \"\"\"\n",
    "    SELECT r.id, r.name, s.overall_score FROM restaurants as r\n",
    "    JOIN scores as s ON r.id=s.restaurant_id\n",
    "    ORDER BY s.overall_score DESC\n",
    "\"\"\"\n",
    "df = print_table(QUERY)\n"
   ]
  },
  {
   "cell_type": "code",
   "execution_count": null,
   "metadata": {},
   "outputs": [],
   "source": [
    "conn = sqlite3.connect('data/ratingRager.db')\n",
    "cursor = conn.cursor()\n",
    "for index, row in df.iterrows():\n",
    "    cursor.execute(\"UPDATE restaurants SET ranking = ? WHERE id = ?\", (index+1, row['id']))\n",
    "\n",
    "conn.commit()\n",
    "conn.close()"
   ]
  },
  {
   "cell_type": "code",
   "execution_count": null,
   "metadata": {},
   "outputs": [],
   "source": [
    "QUERY = \"\"\"\n",
    "    SELECT r.id, r.name, s.overall_score, r.ranking FROM restaurants as r\n",
    "    JOIN scores as s ON r.id=s.restaurant_id\n",
    "    WHERE overall_score > 0.8\n",
    "    ORDER BY s.overall_score DESC;\n",
    "\"\"\"\n",
    "df = print_table(QUERY)\n"
   ]
  },
  {
   "cell_type": "code",
   "execution_count": null,
   "metadata": {},
   "outputs": [],
   "source": [
    "import folium\n",
    "\n",
    "m = folium.Map(location=[51.0447, -114.0719], zoom_start=12)  # Coords for Calgary\n",
    "\n",
    "# Add restaurants as points\n",
    "for _, row in df.iterrows():\n",
    "    folium.CircleMarker(\n",
    "        location=[row['latitude'], row['longitude']],\n",
    "        radius=5,\n",
    "        color='blue',\n",
    "        fill=True,\n",
    "        fill_opacity=0.6,\n",
    "        popup=folium.Popup(f\"Name: {row['name']}<br>Ranking: {row['ranking']} <br>Overall Score: {row['overall_score']:.2f}\", max_width=200),\n",
    "    ).add_to(m)\n",
    "\n",
    "# Display the map\n",
    "m.save('map.html')\n",
    "m\n"
   ]
  }
 ],
 "metadata": {
  "language_info": {
   "name": "python"
  }
 },
 "nbformat": 4,
 "nbformat_minor": 2
}
