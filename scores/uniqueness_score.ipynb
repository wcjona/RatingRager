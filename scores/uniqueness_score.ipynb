{
 "cells": [
  {
   "cell_type": "code",
   "execution_count": null,
   "metadata": {},
   "outputs": [],
   "source": [
    "import sqlite3\n",
    "import pandas as pd\n",
    "\n",
    "def print_table(query, p=False):\n",
    "    conn = sqlite3.connect('../data/ratingRager.db')\n",
    "    cursor = conn.cursor()\n",
    "    cursor.execute(query)\n",
    "\n",
    "    column_names = [description[0] for description in cursor.description]\n",
    "\n",
    "    rows = cursor.fetchall()\n",
    "\n",
    "    column_widths = [max(len(str(row[i])) for row in rows + [column_names]) for i in range(len(column_names))]\n",
    "\n",
    "    header = \"  \".join(f\"{name:<{column_widths[i]}}\" for i, name in enumerate(column_names))\n",
    "    if p:\n",
    "        print('\\n',header)\n",
    "        print(\"-\" * len(header))\n",
    "\n",
    "        for row in rows:\n",
    "            row_str = \"  \".join(f\"{str(item):<{column_widths[i]}}\" for i, item in enumerate(row))\n",
    "            print(row_str)\n",
    "        print('\\n')\n",
    "\n",
    "    return pd.read_sql_query(query, conn)"
   ]
  },
  {
   "cell_type": "code",
   "execution_count": null,
   "metadata": {},
   "outputs": [],
   "source": [
    "QUERY = \"\"\"\n",
    "    SELECT id, name FROM restaurants;\n",
    "\"\"\"\n",
    "df = print_table(QUERY)"
   ]
  },
  {
   "cell_type": "code",
   "execution_count": null,
   "metadata": {},
   "outputs": [],
   "source": [
    "import re\n",
    "def normalize_name(name):\n",
    "    name = re.sub(r\" -.*\", \"\", name)\n",
    "    name = re.sub(r\"\\s?\\(.*\\)\", \"\", name)\n",
    "    return name\n",
    "\n",
    "df['normalized_name'] = df['name'].apply(normalize_name)\n"
   ]
  },
  {
   "cell_type": "code",
   "execution_count": null,
   "metadata": {},
   "outputs": [],
   "source": [
    "print(df[\"normalized_name\"].to_string())"
   ]
  },
  {
   "cell_type": "code",
   "execution_count": null,
   "metadata": {},
   "outputs": [
    {
     "name": "stdout",
     "output_type": "stream",
     "text": [
      "0       0.008000\n",
      "1       1.000000\n",
      "2       1.000000\n",
      "3       0.008264\n",
      "4       0.100000\n",
      "          ...   \n",
      "3936    1.000000\n",
      "3937    1.000000\n",
      "3938    0.333333\n",
      "3939    1.000000\n",
      "3940    1.000000\n",
      "Name: uniqueness_score, Length: 3941, dtype: float64\n"
     ]
    }
   ],
   "source": [
    "import pandas as pd\n",
    "\n",
    "name_counts = df['normalized_name'].value_counts()\n",
    "\n",
    "df['uniqueness_score'] = df['normalized_name'].map(name_counts)\n",
    "df['uniqueness_score'] = 1 / df['uniqueness_score']\n",
    "\n",
    "print(df['uniqueness_score'])"
   ]
  },
  {
   "cell_type": "code",
   "execution_count": null,
   "metadata": {},
   "outputs": [],
   "source": [
    "# Update score table\n",
    "\n",
    "conn = sqlite3.connect('../data/ratingRager.db')\n",
    "cursor = conn.cursor()\n",
    "\n",
    "for index, row in df.iterrows():\n",
    "    cursor.execute(\n",
    "        \"UPDATE scores SET uniqueness_score = ? WHERE restaurant_id = ?;\",\n",
    "        (row['uniqueness_score'], row['id'])\n",
    "    )\n",
    "\n",
    "conn.commit()\n",
    "conn.close()"
   ]
  }
 ],
 "metadata": {
  "language_info": {
   "name": "python"
  }
 },
 "nbformat": 4,
 "nbformat_minor": 2
}
