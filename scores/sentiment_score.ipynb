{
 "cells": [
  {
   "cell_type": "code",
   "execution_count": null,
   "metadata": {},
   "outputs": [],
   "source": [
    "import sqlite3\n",
    "import pandas as pd\n",
    "\n",
    "def print_table(query):\n",
    "    conn = sqlite3.connect('data/ratingRager.db')\n",
    "    cursor = conn.cursor()\n",
    "    cursor.execute(query)\n",
    "\n",
    "    column_names = [description[0] for description in cursor.description]\n",
    "\n",
    "    rows = cursor.fetchall()\n",
    "\n",
    "    column_widths = [max(len(str(row[i])) for row in rows + [column_names]) for i in range(len(column_names))]\n",
    "\n",
    "    header = \"  \".join(f\"{name:<{column_widths[i]}}\" for i, name in enumerate(column_names))\n",
    "    print('\\n',header)\n",
    "    print(\"-\" * len(header))\n",
    "\n",
    "    for row in rows:\n",
    "        row_str = \"  \".join(f\"{str(item):<{column_widths[i]}}\" for i, item in enumerate(row))\n",
    "        print(row_str)\n",
    "    print('\\n')\n",
    "\n",
    "    return pd.read_sql_query(query, conn)"
   ]
  },
  {
   "cell_type": "code",
   "execution_count": null,
   "metadata": {},
   "outputs": [],
   "source": [
    "# 5 Most Recent Reviews\n",
    "\n",
    "QUERY = \"\"\"\n",
    "WITH recent_reviews AS (\n",
    "    SELECT\n",
    "        restaurant_id,\n",
    "        description,\n",
    "        date,\n",
    "        ROW_NUMBER() OVER (PARTITION BY restaurant_id ORDER BY date DESC) AS rank\n",
    "    FROM reviews\n",
    ")\n",
    "SELECT\n",
    "    restaurant_id,\n",
    "    description,\n",
    "    date\n",
    "FROM recent_reviews\n",
    "WHERE rank <= 5;\n",
    "\"\"\"\n",
    "df_recent = print_table(QUERY)"
   ]
  },
  {
   "cell_type": "code",
   "execution_count": null,
   "metadata": {},
   "outputs": [],
   "source": [
    "# 5 Oldest Recent Reviews\n",
    "\n",
    "QUERY = \"\"\"\n",
    "WITH old_reviews AS (\n",
    "    SELECT\n",
    "        restaurant_id,\n",
    "        description,\n",
    "        date,\n",
    "        ROW_NUMBER() OVER (PARTITION BY restaurant_id ORDER BY date ASC) AS rank\n",
    "    FROM reviews\n",
    ")\n",
    "SELECT\n",
    "    restaurant_id,\n",
    "    description,\n",
    "    date\n",
    "FROM old_reviews\n",
    "WHERE rank <= 5;\n",
    "\"\"\"\n",
    "df_old = print_table(QUERY)"
   ]
  },
  {
   "cell_type": "code",
   "execution_count": null,
   "metadata": {},
   "outputs": [],
   "source": [
    "from vaderSentiment.vaderSentiment import SentimentIntensityAnalyzer\n",
    "\n",
    "analyzer = SentimentIntensityAnalyzer()\n",
    "\n",
    "def get_sentiment(text):\n",
    "    if pd.isna(text):\n",
    "        return None\n",
    "    sentiment = analyzer.polarity_scores(text)\n",
    "    return sentiment['compound']\n",
    "\n",
    "df_recent[\"recent_sentiment\"] = df_recent[\"description\"].apply(get_sentiment)\n"
   ]
  },
  {
   "cell_type": "code",
   "execution_count": null,
   "metadata": {},
   "outputs": [
    {
     "name": "stdout",
     "output_type": "stream",
     "text": [
      "-0.9958\n"
     ]
    }
   ],
   "source": [
    "print(df_old[\"recent_sentiment\"].min())"
   ]
  },
  {
   "cell_type": "code",
   "execution_count": null,
   "metadata": {},
   "outputs": [],
   "source": [
    "df_old[\"recent_sentiment\"] = df_old[\"description\"].apply(get_sentiment)"
   ]
  },
  {
   "cell_type": "code",
   "execution_count": null,
   "metadata": {},
   "outputs": [],
   "source": [
    "average_sentiment = df_recent.groupby(\"restaurant_id\")[\"recent_sentiment\"].mean().reset_index()\n",
    "average_sentiment.columns = [\"restaurant_id\", \"average_sentiment\"]"
   ]
  },
  {
   "cell_type": "code",
   "execution_count": null,
   "metadata": {},
   "outputs": [
    {
     "name": "stdout",
     "output_type": "stream",
     "text": [
      "      restaurant_id  average_sentiment\n",
      "0                 1            0.89158\n",
      "1                 2            0.54396\n",
      "2                 3            0.31586\n",
      "3                 4            0.38400\n",
      "4                 5            0.25674\n",
      "...             ...                ...\n",
      "3937           3938            0.49580\n",
      "3938           3939            0.61324\n",
      "3939           3940            0.09554\n",
      "3940           3941            0.49694\n",
      "3941           3942            0.14860\n",
      "\n",
      "[3942 rows x 2 columns]\n"
     ]
    }
   ],
   "source": [
    "print(average_sentiment)"
   ]
  },
  {
   "cell_type": "code",
   "execution_count": null,
   "metadata": {},
   "outputs": [],
   "source": [
    "average_sentiment_old = df_old.groupby(\"restaurant_id\")[\"recent_sentiment\"].mean().reset_index()\n",
    "average_sentiment_old.columns = [\"restaurant_id\", \"average_sentiment\"]"
   ]
  },
  {
   "cell_type": "code",
   "execution_count": null,
   "metadata": {},
   "outputs": [
    {
     "name": "stdout",
     "output_type": "stream",
     "text": [
      "      restaurant_id  average_sentiment\n",
      "0                 1            0.63434\n",
      "1                 2            0.52190\n",
      "2                 3            0.62130\n",
      "3                 4            0.14236\n",
      "4                 5            0.62952\n",
      "...             ...                ...\n",
      "3937           3938            0.91438\n",
      "3938           3939            0.85796\n",
      "3939           3940            0.67970\n",
      "3940           3941            0.78794\n",
      "3941           3942            0.92546\n",
      "\n",
      "[3942 rows x 2 columns]\n"
     ]
    }
   ],
   "source": [
    "print(average_sentiment_old)"
   ]
  },
  {
   "cell_type": "code",
   "execution_count": null,
   "metadata": {},
   "outputs": [
    {
     "name": "stdout",
     "output_type": "stream",
     "text": [
      "0       0.814408\n",
      "1       0.537342\n",
      "2       0.407492\n",
      "3       0.311508\n",
      "4       0.368574\n",
      "          ...   \n",
      "3937    0.621374\n",
      "3938    0.686656\n",
      "3939    0.270788\n",
      "3940    0.584240\n",
      "3941    0.381658\n",
      "Name: sentiment_score, Length: 3942, dtype: float64\n"
     ]
    }
   ],
   "source": [
    "average_sentiment[\"sentiment_score\"] = (0.7 * average_sentiment[\"average_sentiment\"]) + (0.3 * average_sentiment_old[\"average_sentiment\"])\n",
    "\n",
    "print(average_sentiment[\"sentiment_score\"])"
   ]
  },
  {
   "cell_type": "code",
   "execution_count": null,
   "metadata": {},
   "outputs": [],
   "source": [
    "# Normalize from -1 to 1 to 0 to 1\n",
    "average_sentiment[\"sentiment_score\"] = (average_sentiment[\"sentiment_score\"] + 1) / 2"
   ]
  },
  {
   "cell_type": "code",
   "execution_count": null,
   "metadata": {},
   "outputs": [
    {
     "name": "stdout",
     "output_type": "stream",
     "text": [
      "0.9926999999999999\n"
     ]
    }
   ],
   "source": [
    "print(average_sentiment[\"sentiment_score\"].max())"
   ]
  },
  {
   "cell_type": "code",
   "execution_count": null,
   "metadata": {},
   "outputs": [],
   "source": [
    "# Update score table\n",
    "\n",
    "conn = sqlite3.connect('data/ratingRager.db')\n",
    "cursor = conn.cursor()\n",
    "\n",
    "for index, row in average_sentiment.iterrows():\n",
    "    cursor.execute(\n",
    "        \"UPDATE scores SET sentiment_score = ? WHERE restaurant_id = ?;\",\n",
    "        (row['sentiment_score'], row['restaurant_id'])\n",
    "    )\n",
    "\n",
    "conn.commit()\n",
    "conn.close()"
   ]
  }
 ],
 "metadata": {
  "language_info": {
   "name": "python"
  }
 },
 "nbformat": 4,
 "nbformat_minor": 2
}
